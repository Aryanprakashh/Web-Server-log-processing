{
 "cells": [
  {
   "cell_type": "code",
   "execution_count": 19,
   "metadata": {},
   "outputs": [],
   "source": [
    "import numpy as np\n",
    "import matplotlib.pyplot as plt\n",
    "import pandas as pd"
   ]
  },
  {
   "cell_type": "code",
   "execution_count": 20,
   "metadata": {},
   "outputs": [],
   "source": [
    "import datetime"
   ]
  },
  {
   "cell_type": "code",
   "execution_count": 21,
   "metadata": {},
   "outputs": [
    {
     "data": {
      "application/vnd.microsoft.datawrangler.viewer.v0+json": {
       "columns": [
        {
         "name": "index",
         "rawType": "int64",
         "type": "integer"
        },
        {
         "name": "IP         ",
         "rawType": "object",
         "type": "string"
        },
        {
         "name": "Time                  ",
         "rawType": "object",
         "type": "string"
        },
        {
         "name": "URL                                                                          ",
         "rawType": "object",
         "type": "string"
        },
        {
         "name": "Status",
         "rawType": "int64",
         "type": "integer"
        }
       ],
       "conversionMethod": "pd.DataFrame",
       "ref": "f4e4a4bc-1831-41b7-941b-277adf28f068",
       "rows": [
        [
         "0",
         "10.128.2.1 ",
         "[29/Nov/2017:06:58:55 ",
         "GET /login.php HTTP/1.1                                                      ",
         "200"
        ],
        [
         "1",
         "10.128.2.1 ",
         "[29/Nov/2017:06:59:02 ",
         "POST /process.php HTTP/1.1                                                   ",
         "302"
        ],
        [
         "2",
         "10.128.2.1 ",
         "[29/Nov/2017:06:59:03 ",
         "GET /home.php HTTP/1.1                                                       ",
         "200"
        ],
        [
         "3",
         "10.131.2.1 ",
         "[29/Nov/2017:06:59:04 ",
         "GET /js/vendor/moment.min.js HTTP/1.1                                        ",
         "200"
        ],
        [
         "4",
         "10.130.2.1 ",
         "[29/Nov/2017:06:59:06 ",
         "GET /bootstrap-3.3.7/js/bootstrap.js HTTP/1.1                                ",
         "200"
        ]
       ],
       "shape": {
        "columns": 4,
        "rows": 5
       }
      },
      "text/html": [
       "<div>\n",
       "<style scoped>\n",
       "    .dataframe tbody tr th:only-of-type {\n",
       "        vertical-align: middle;\n",
       "    }\n",
       "\n",
       "    .dataframe tbody tr th {\n",
       "        vertical-align: top;\n",
       "    }\n",
       "\n",
       "    .dataframe thead th {\n",
       "        text-align: right;\n",
       "    }\n",
       "</style>\n",
       "<table border=\"1\" class=\"dataframe\">\n",
       "  <thead>\n",
       "    <tr style=\"text-align: right;\">\n",
       "      <th></th>\n",
       "      <th>IP</th>\n",
       "      <th>Time</th>\n",
       "      <th>URL</th>\n",
       "      <th>Status</th>\n",
       "    </tr>\n",
       "  </thead>\n",
       "  <tbody>\n",
       "    <tr>\n",
       "      <th>0</th>\n",
       "      <td>10.128.2.1</td>\n",
       "      <td>[29/Nov/2017:06:58:55</td>\n",
       "      <td>GET /login.php HTTP/1.1                       ...</td>\n",
       "      <td>200</td>\n",
       "    </tr>\n",
       "    <tr>\n",
       "      <th>1</th>\n",
       "      <td>10.128.2.1</td>\n",
       "      <td>[29/Nov/2017:06:59:02</td>\n",
       "      <td>POST /process.php HTTP/1.1                    ...</td>\n",
       "      <td>302</td>\n",
       "    </tr>\n",
       "    <tr>\n",
       "      <th>2</th>\n",
       "      <td>10.128.2.1</td>\n",
       "      <td>[29/Nov/2017:06:59:03</td>\n",
       "      <td>GET /home.php HTTP/1.1                        ...</td>\n",
       "      <td>200</td>\n",
       "    </tr>\n",
       "    <tr>\n",
       "      <th>3</th>\n",
       "      <td>10.131.2.1</td>\n",
       "      <td>[29/Nov/2017:06:59:04</td>\n",
       "      <td>GET /js/vendor/moment.min.js HTTP/1.1         ...</td>\n",
       "      <td>200</td>\n",
       "    </tr>\n",
       "    <tr>\n",
       "      <th>4</th>\n",
       "      <td>10.130.2.1</td>\n",
       "      <td>[29/Nov/2017:06:59:06</td>\n",
       "      <td>GET /bootstrap-3.3.7/js/bootstrap.js HTTP/1.1 ...</td>\n",
       "      <td>200</td>\n",
       "    </tr>\n",
       "  </tbody>\n",
       "</table>\n",
       "</div>"
      ],
      "text/plain": [
       "   IP           Time                    \\\n",
       "0  10.128.2.1   [29/Nov/2017:06:58:55    \n",
       "1  10.128.2.1   [29/Nov/2017:06:59:02    \n",
       "2  10.128.2.1   [29/Nov/2017:06:59:03    \n",
       "3  10.131.2.1   [29/Nov/2017:06:59:04    \n",
       "4  10.130.2.1   [29/Nov/2017:06:59:06    \n",
       "\n",
       "  URL                                                                            \\\n",
       "0  GET /login.php HTTP/1.1                       ...                              \n",
       "1  POST /process.php HTTP/1.1                    ...                              \n",
       "2  GET /home.php HTTP/1.1                        ...                              \n",
       "3  GET /js/vendor/moment.min.js HTTP/1.1         ...                              \n",
       "4  GET /bootstrap-3.3.7/js/bootstrap.js HTTP/1.1 ...                              \n",
       "\n",
       "   Status  \n",
       "0     200  \n",
       "1     302  \n",
       "2     200  \n",
       "3     200  \n",
       "4     200  "
      ]
     },
     "execution_count": 21,
     "metadata": {},
     "output_type": "execute_result"
    }
   ],
   "source": [
    "dataset = pd.read_csv('weblog.csv')\n",
    "dataset.head()"
   ]
  },
  {
   "cell_type": "code",
   "execution_count": 22,
   "metadata": {},
   "outputs": [
    {
     "data": {
      "text/plain": [
       "0    10.128.2.1 \n",
       "Name: IP         , dtype: object"
      ]
     },
     "execution_count": 22,
     "metadata": {},
     "output_type": "execute_result"
    }
   ],
   "source": [
    "dataset.iloc[0:1,0]"
   ]
  },
  {
   "cell_type": "code",
   "execution_count": 23,
   "metadata": {},
   "outputs": [
    {
     "data": {
      "application/vnd.microsoft.datawrangler.viewer.v0+json": {
       "columns": [
        {
         "name": "index",
         "rawType": "int64",
         "type": "integer"
        },
        {
         "name": "IP         ",
         "rawType": "object",
         "type": "string"
        },
        {
         "name": "Time                  ",
         "rawType": "object",
         "type": "string"
        },
        {
         "name": "URL                                                                          ",
         "rawType": "object",
         "type": "string"
        },
        {
         "name": "Status",
         "rawType": "int64",
         "type": "integer"
        }
       ],
       "conversionMethod": "pd.DataFrame",
       "ref": "976d5248-4709-4461-9f92-119de111afb7",
       "rows": [
        [
         "0",
         "10.128.2.1 ",
         "[29/Nov/2017:06:58:55 ",
         "GET /login.php HTTP/1.1                                                      ",
         "200"
        ],
        [
         "1",
         "10.128.2.1 ",
         "[29/Nov/2017:06:59:02 ",
         "POST /process.php HTTP/1.1                                                   ",
         "302"
        ],
        [
         "2",
         "10.128.2.1 ",
         "[29/Nov/2017:06:59:03 ",
         "GET /home.php HTTP/1.1                                                       ",
         "200"
        ],
        [
         "3",
         "10.131.2.1 ",
         "[29/Nov/2017:06:59:04 ",
         "GET /js/vendor/moment.min.js HTTP/1.1                                        ",
         "200"
        ],
        [
         "4",
         "10.130.2.1 ",
         "[29/Nov/2017:06:59:06 ",
         "GET /bootstrap-3.3.7/js/bootstrap.js HTTP/1.1                                ",
         "200"
        ]
       ],
       "shape": {
        "columns": 4,
        "rows": 5
       }
      },
      "text/html": [
       "<div>\n",
       "<style scoped>\n",
       "    .dataframe tbody tr th:only-of-type {\n",
       "        vertical-align: middle;\n",
       "    }\n",
       "\n",
       "    .dataframe tbody tr th {\n",
       "        vertical-align: top;\n",
       "    }\n",
       "\n",
       "    .dataframe thead th {\n",
       "        text-align: right;\n",
       "    }\n",
       "</style>\n",
       "<table border=\"1\" class=\"dataframe\">\n",
       "  <thead>\n",
       "    <tr style=\"text-align: right;\">\n",
       "      <th></th>\n",
       "      <th>IP</th>\n",
       "      <th>Time</th>\n",
       "      <th>URL</th>\n",
       "      <th>Status</th>\n",
       "    </tr>\n",
       "  </thead>\n",
       "  <tbody>\n",
       "    <tr>\n",
       "      <th>0</th>\n",
       "      <td>10.128.2.1</td>\n",
       "      <td>[29/Nov/2017:06:58:55</td>\n",
       "      <td>GET /login.php HTTP/1.1                       ...</td>\n",
       "      <td>200</td>\n",
       "    </tr>\n",
       "    <tr>\n",
       "      <th>1</th>\n",
       "      <td>10.128.2.1</td>\n",
       "      <td>[29/Nov/2017:06:59:02</td>\n",
       "      <td>POST /process.php HTTP/1.1                    ...</td>\n",
       "      <td>302</td>\n",
       "    </tr>\n",
       "    <tr>\n",
       "      <th>2</th>\n",
       "      <td>10.128.2.1</td>\n",
       "      <td>[29/Nov/2017:06:59:03</td>\n",
       "      <td>GET /home.php HTTP/1.1                        ...</td>\n",
       "      <td>200</td>\n",
       "    </tr>\n",
       "    <tr>\n",
       "      <th>3</th>\n",
       "      <td>10.131.2.1</td>\n",
       "      <td>[29/Nov/2017:06:59:04</td>\n",
       "      <td>GET /js/vendor/moment.min.js HTTP/1.1         ...</td>\n",
       "      <td>200</td>\n",
       "    </tr>\n",
       "    <tr>\n",
       "      <th>4</th>\n",
       "      <td>10.130.2.1</td>\n",
       "      <td>[29/Nov/2017:06:59:06</td>\n",
       "      <td>GET /bootstrap-3.3.7/js/bootstrap.js HTTP/1.1 ...</td>\n",
       "      <td>200</td>\n",
       "    </tr>\n",
       "  </tbody>\n",
       "</table>\n",
       "</div>"
      ],
      "text/plain": [
       "   IP           Time                    \\\n",
       "0  10.128.2.1   [29/Nov/2017:06:58:55    \n",
       "1  10.128.2.1   [29/Nov/2017:06:59:02    \n",
       "2  10.128.2.1   [29/Nov/2017:06:59:03    \n",
       "3  10.131.2.1   [29/Nov/2017:06:59:04    \n",
       "4  10.130.2.1   [29/Nov/2017:06:59:06    \n",
       "\n",
       "  URL                                                                            \\\n",
       "0  GET /login.php HTTP/1.1                       ...                              \n",
       "1  POST /process.php HTTP/1.1                    ...                              \n",
       "2  GET /home.php HTTP/1.1                        ...                              \n",
       "3  GET /js/vendor/moment.min.js HTTP/1.1         ...                              \n",
       "4  GET /bootstrap-3.3.7/js/bootstrap.js HTTP/1.1 ...                              \n",
       "\n",
       "   Status  \n",
       "0     200  \n",
       "1     302  \n",
       "2     200  \n",
       "3     200  \n",
       "4     200  "
      ]
     },
     "execution_count": 23,
     "metadata": {},
     "output_type": "execute_result"
    }
   ],
   "source": [
    "df = dataset.iloc[:580,:]\n",
    "df.head()"
   ]
  },
  {
   "cell_type": "code",
   "execution_count": 24,
   "metadata": {},
   "outputs": [
    {
     "data": {
      "application/vnd.microsoft.datawrangler.viewer.v0+json": {
       "columns": [
        {
         "name": "index",
         "rawType": "int64",
         "type": "integer"
        },
        {
         "name": "IP_Address",
         "rawType": "object",
         "type": "string"
        },
        {
         "name": "Time_Difference_Mean",
         "rawType": "int64",
         "type": "integer"
        },
        {
         "name": "Time_Difference_Variance",
         "rawType": "int64",
         "type": "integer"
        },
        {
         "name": "Time_Difference_Sum",
         "rawType": "int64",
         "type": "integer"
        },
        {
         "name": "Time_Difference_Maximum",
         "rawType": "int64",
         "type": "integer"
        },
        {
         "name": "Character-bigrams",
         "rawType": "int64",
         "type": "integer"
        },
        {
         "name": "Character-trigrams",
         "rawType": "int64",
         "type": "integer"
        },
        {
         "name": "Character-ngrams",
         "rawType": "int64",
         "type": "integer"
        },
        {
         "name": "Count_of_most_visited_page",
         "rawType": "int64",
         "type": "integer"
        },
        {
         "name": "Status",
         "rawType": "int64",
         "type": "integer"
        },
        {
         "name": "Number_of_records",
         "rawType": "int64",
         "type": "integer"
        }
       ],
       "conversionMethod": "pd.DataFrame",
       "ref": "e97e97d6-8bec-42d0-b4b3-b82fc25c3757",
       "rows": [
        [
         "0",
         "10.128.2.1",
         "99",
         "54",
         "105",
         "15",
         "45",
         "34",
         "74",
         "14",
         "200",
         "40"
        ]
       ],
       "shape": {
        "columns": 11,
        "rows": 1
       }
      },
      "text/html": [
       "<div>\n",
       "<style scoped>\n",
       "    .dataframe tbody tr th:only-of-type {\n",
       "        vertical-align: middle;\n",
       "    }\n",
       "\n",
       "    .dataframe tbody tr th {\n",
       "        vertical-align: top;\n",
       "    }\n",
       "\n",
       "    .dataframe thead th {\n",
       "        text-align: right;\n",
       "    }\n",
       "</style>\n",
       "<table border=\"1\" class=\"dataframe\">\n",
       "  <thead>\n",
       "    <tr style=\"text-align: right;\">\n",
       "      <th></th>\n",
       "      <th>IP_Address</th>\n",
       "      <th>Time_Difference_Mean</th>\n",
       "      <th>Time_Difference_Variance</th>\n",
       "      <th>Time_Difference_Sum</th>\n",
       "      <th>Time_Difference_Maximum</th>\n",
       "      <th>Character-bigrams</th>\n",
       "      <th>Character-trigrams</th>\n",
       "      <th>Character-ngrams</th>\n",
       "      <th>Count_of_most_visited_page</th>\n",
       "      <th>Status</th>\n",
       "      <th>Number_of_records</th>\n",
       "    </tr>\n",
       "  </thead>\n",
       "  <tbody>\n",
       "    <tr>\n",
       "      <th>0</th>\n",
       "      <td>10.128.2.1</td>\n",
       "      <td>99</td>\n",
       "      <td>54</td>\n",
       "      <td>105</td>\n",
       "      <td>15</td>\n",
       "      <td>45</td>\n",
       "      <td>34</td>\n",
       "      <td>74</td>\n",
       "      <td>14</td>\n",
       "      <td>200</td>\n",
       "      <td>40</td>\n",
       "    </tr>\n",
       "  </tbody>\n",
       "</table>\n",
       "</div>"
      ],
      "text/plain": [
       "   IP_Address  Time_Difference_Mean  Time_Difference_Variance  \\\n",
       "0  10.128.2.1                    99                        54   \n",
       "\n",
       "   Time_Difference_Sum  Time_Difference_Maximum  Character-bigrams  \\\n",
       "0                  105                       15                 45   \n",
       "\n",
       "   Character-trigrams  Character-ngrams  Count_of_most_visited_page  Status  \\\n",
       "0                  34                74                          14     200   \n",
       "\n",
       "   Number_of_records  \n",
       "0                 40  "
      ]
     },
     "execution_count": 24,
     "metadata": {},
     "output_type": "execute_result"
    }
   ],
   "source": [
    "data = {'IP_Address':['10.128.2.1'], 'Time_Difference_Mean':[99], 'Time_Difference_Variance':[54], 'Time_Difference_Sum':[105], 'Time_Difference_Maximum':[15], 'Character-bigrams':[45], 'Character-trigrams':[34], 'Character-ngrams':[74], 'Count_of_most_visited_page':[14], 'Status':[200], 'Number_of_records':[40]}\n",
    "work_dataset = pd.DataFrame(data)\n",
    "work_dataset"
   ]
  },
  {
   "cell_type": "code",
   "execution_count": 25,
   "metadata": {},
   "outputs": [],
   "source": [
    "def time_stats(dataframe):\n",
    "    \"\"\"\n",
    "    Calculate time-based statistics from weblog time format [DD/MMM/YYYY:HH:MM:SS\n",
    "\n",
    "    Args:\n",
    "        dataframe: pandas DataFrame with time values in format [DD/MMM/YYYY:HH:MM:SS\n",
    "    Returns:\n",
    "        tuple: (max_time_diff, mean_time_diff, sum_time_diff, variance_time_diff)\n",
    "    \"\"\"\n",
    "    if len(dataframe) <= 1:\n",
    "        return 0, 0, 0, 0\n",
    "\n",
    "    # Extract time from the format [DD/MMM/YYYY:HH:MM:SS\n",
    "    def extract_time(time_str):\n",
    "        # Remove leading [ and get the time part after :\n",
    "        time_part = time_str.split(\":\", 1)[1].split(\" \")[0]\n",
    "        return datetime.datetime.strptime(time_part, \"%H:%M:%S\")\n",
    "\n",
    "    # Process all times at once\n",
    "    try:\n",
    "        processed_times = [\n",
    "            extract_time(str(time)) for time in dataframe.iloc[:, 1].values\n",
    "        ]\n",
    "\n",
    "        # Calculate time differences in seconds\n",
    "        time_diffs = [\n",
    "            (processed_times[i] - processed_times[i - 1]).seconds\n",
    "            for i in range(1, len(processed_times))\n",
    "        ]\n",
    "\n",
    "        if not time_diffs:\n",
    "            return 0, 0, 0, 0\n",
    "\n",
    "        # Calculate statistics\n",
    "        max_time_diff = max(time_diffs)\n",
    "        sum_time_diff = sum(time_diffs)\n",
    "        mean_time_diff = sum_time_diff / len(time_diffs)\n",
    "\n",
    "        # Calculate variance\n",
    "        variance_time_diff = sum(\n",
    "            (diff - mean_time_diff) ** 2 for diff in time_diffs\n",
    "        ) / len(time_diffs)\n",
    "\n",
    "        return max_time_diff, mean_time_diff, sum_time_diff, variance_time_diff\n",
    "\n",
    "    except (ValueError, IndexError) as e:\n",
    "        print(f\"Error processing times: {e}\")\n",
    "        return 0, 0, 0, 0"
   ]
  },
  {
   "cell_type": "code",
   "execution_count": 26,
   "metadata": {},
   "outputs": [
    {
     "data": {
      "text/plain": [
       "(23466, 95.58376511226253, 55343, 1112702.1497191428)"
      ]
     },
     "execution_count": 26,
     "metadata": {},
     "output_type": "execute_result"
    }
   ],
   "source": [
    "time_stats(df)"
   ]
  },
  {
   "cell_type": "code",
   "execution_count": 27,
   "metadata": {},
   "outputs": [],
   "source": [
    "import re\n",
    "import string\n",
    "import nltk\n",
    "import nltk.corpus\n",
    "from nltk.corpus import stopwords\n",
    "from nltk.tokenize import word_tokenize\n",
    "from nltk.util import bigrams"
   ]
  },
  {
   "cell_type": "code",
   "execution_count": 28,
   "metadata": {},
   "outputs": [],
   "source": [
    "def most_frequent(List): \n",
    "    return max(set(List), key = List.count)"
   ]
  },
  {
   "cell_type": "code",
   "execution_count": 29,
   "metadata": {},
   "outputs": [],
   "source": [
    "def bigram_stats(dataframe):\n",
    "    url_array = dataframe.iloc[:,2].values\n",
    "    full_string = \"\"\n",
    "    for url in url_array:\n",
    "        full_string = full_string + url\n",
    "    full_string = full_string.lower()\n",
    "    full_string = re.sub(r'\\d+', '', full_string)\n",
    "    table = str.maketrans({key: None for key in string.punctuation})\n",
    "    full_string = full_string.translate(table) \n",
    "    full_string = full_string.strip()\n",
    "    full_string_tokens = word_tokenize(full_string)\n",
    "    for char in full_string_tokens:\n",
    "        if char == 'get':\n",
    "            full_string_tokens.remove('get')\n",
    "    for char in full_string_tokens:\n",
    "        if char == 'httpget':\n",
    "            full_string_tokens.remove('httpget')\n",
    "    for char in full_string_tokens:\n",
    "        if char == 'httppost':\n",
    "            full_string_tokens.remove('httppost')\n",
    "    for char in full_string_tokens:\n",
    "        if char == 'post':\n",
    "            full_string_tokens.remove('post')\n",
    "    \n",
    "    count_most_visited_page = 0\n",
    "    if len(full_string_tokens)!=0:\n",
    "        most_visited_page = most_frequent(full_string_tokens)\n",
    "        count_most_visited_page = full_string_tokens.count(most_visited_page)\n",
    "        \n",
    "    \n",
    "    count_most_appearing_bigram = 0\n",
    "    bigrams = list(nltk.bigrams(full_string_tokens))\n",
    "    if len(bigrams)!=0:\n",
    "        most_appearing_bigram = most_frequent(bigrams)\n",
    "        count_most_appearing_bigram = bigrams.count(most_appearing_bigram)\n",
    "    \n",
    "    count_most_appearing_trigram = 0\n",
    "    trigrams = list(nltk.trigrams(full_string_tokens))\n",
    "    if len(trigrams)!=0:\n",
    "        most_appearing_trigram = most_frequent(trigrams)\n",
    "        count_most_appearing_trigram = trigrams.count(most_appearing_trigram)\n",
    "    \n",
    "    count_most_appearing_ngram = 0\n",
    "    ngrams = list(nltk.ngrams(full_string_tokens, 6))\n",
    "    if len(ngrams)!=0:\n",
    "        most_appearing_ngram = most_frequent(ngrams)\n",
    "        count_most_appearing_ngram = ngrams.count(most_appearing_ngram)\n",
    "        \n",
    "    return count_most_visited_page, count_most_appearing_bigram, count_most_appearing_trigram, count_most_appearing_ngram"
   ]
  },
  {
   "cell_type": "code",
   "execution_count": 30,
   "metadata": {},
   "outputs": [
    {
     "data": {
      "text/plain": [
       "(580, 79, 79, 17)"
      ]
     },
     "execution_count": 30,
     "metadata": {},
     "output_type": "execute_result"
    }
   ],
   "source": [
    "bigram_stats(df)"
   ]
  },
  {
   "cell_type": "code",
   "execution_count": 31,
   "metadata": {},
   "outputs": [],
   "source": [
    "from collections import Counter"
   ]
  },
  {
   "cell_type": "code",
   "execution_count": 32,
   "metadata": {},
   "outputs": [],
   "source": [
    "def most_visited_ip(dataframe):\n",
    "    ip = dataframe.iloc[:,0].values\n",
    "    x = Counter(ip)\n",
    "    return x.most_common(1)[0][0]"
   ]
  },
  {
   "cell_type": "code",
   "execution_count": 33,
   "metadata": {},
   "outputs": [
    {
     "data": {
      "text/plain": [
       "'10.131.2.1 '"
      ]
     },
     "execution_count": 33,
     "metadata": {},
     "output_type": "execute_result"
    }
   ],
   "source": [
    "most_visited_ip(df)"
   ]
  },
  {
   "cell_type": "code",
   "execution_count": 34,
   "metadata": {},
   "outputs": [],
   "source": [
    "def most_freq_status(dataframe):\n",
    "    status = dataframe.iloc[:,3].values\n",
    "    x = Counter(status)\n",
    "    return x.most_common(1)[0][0]"
   ]
  },
  {
   "cell_type": "code",
   "execution_count": 35,
   "metadata": {},
   "outputs": [
    {
     "data": {
      "text/plain": [
       "200"
      ]
     },
     "execution_count": 35,
     "metadata": {},
     "output_type": "execute_result"
    }
   ],
   "source": [
    "most_freq_status(df)"
   ]
  },
  {
   "cell_type": "code",
   "execution_count": 36,
   "metadata": {},
   "outputs": [
    {
     "ename": "KeyError",
     "evalue": "'Time'",
     "output_type": "error",
     "traceback": [
      "\u001b[1;31m---------------------------------------------------------------------------\u001b[0m",
      "\u001b[1;31mKeyError\u001b[0m                                  Traceback (most recent call last)",
      "File \u001b[1;32mc:\\Users\\ARYAN PRAKASH\\AppData\\Local\\Programs\\Python\\Python311\\Lib\\site-packages\\pandas\\core\\indexes\\base.py:3805\u001b[0m, in \u001b[0;36mIndex.get_loc\u001b[1;34m(self, key)\u001b[0m\n\u001b[0;32m   3804\u001b[0m \u001b[38;5;28;01mtry\u001b[39;00m:\n\u001b[1;32m-> 3805\u001b[0m     \u001b[38;5;28;01mreturn\u001b[39;00m \u001b[38;5;28;43mself\u001b[39;49m\u001b[38;5;241;43m.\u001b[39;49m\u001b[43m_engine\u001b[49m\u001b[38;5;241;43m.\u001b[39;49m\u001b[43mget_loc\u001b[49m\u001b[43m(\u001b[49m\u001b[43mcasted_key\u001b[49m\u001b[43m)\u001b[49m\n\u001b[0;32m   3806\u001b[0m \u001b[38;5;28;01mexcept\u001b[39;00m \u001b[38;5;167;01mKeyError\u001b[39;00m \u001b[38;5;28;01mas\u001b[39;00m err:\n",
      "File \u001b[1;32mindex.pyx:167\u001b[0m, in \u001b[0;36mpandas._libs.index.IndexEngine.get_loc\u001b[1;34m()\u001b[0m\n",
      "File \u001b[1;32mindex.pyx:196\u001b[0m, in \u001b[0;36mpandas._libs.index.IndexEngine.get_loc\u001b[1;34m()\u001b[0m\n",
      "File \u001b[1;32mpandas\\\\_libs\\\\hashtable_class_helper.pxi:7081\u001b[0m, in \u001b[0;36mpandas._libs.hashtable.PyObjectHashTable.get_item\u001b[1;34m()\u001b[0m\n",
      "File \u001b[1;32mpandas\\\\_libs\\\\hashtable_class_helper.pxi:7089\u001b[0m, in \u001b[0;36mpandas._libs.hashtable.PyObjectHashTable.get_item\u001b[1;34m()\u001b[0m\n",
      "\u001b[1;31mKeyError\u001b[0m: 'Time'",
      "\nThe above exception was the direct cause of the following exception:\n",
      "\u001b[1;31mKeyError\u001b[0m                                  Traceback (most recent call last)",
      "Cell \u001b[1;32mIn[36], line 7\u001b[0m\n\u001b[0;32m      4\u001b[0m p \u001b[38;5;241m=\u001b[39m \u001b[38;5;241m1\u001b[39m\n\u001b[0;32m      5\u001b[0m \u001b[38;5;28;01mfor\u001b[39;00m i,row \u001b[38;5;129;01min\u001b[39;00m dataset\u001b[38;5;241m.\u001b[39miterrows():\n\u001b[1;32m----> 7\u001b[0m     date \u001b[38;5;241m=\u001b[39m \u001b[43mrow\u001b[49m\u001b[43m[\u001b[49m\u001b[38;5;124;43m'\u001b[39;49m\u001b[38;5;124;43mTime\u001b[39;49m\u001b[38;5;124;43m'\u001b[39;49m\u001b[43m]\u001b[49m[\u001b[38;5;241m1\u001b[39m:\u001b[38;5;241m12\u001b[39m]\n\u001b[0;32m      8\u001b[0m     \u001b[38;5;28;01mif\u001b[39;00m i\u001b[38;5;241m==\u001b[39m\u001b[38;5;241m0\u001b[39m:\n\u001b[0;32m      9\u001b[0m         prevdate \u001b[38;5;241m=\u001b[39m date\n",
      "File \u001b[1;32mc:\\Users\\ARYAN PRAKASH\\AppData\\Local\\Programs\\Python\\Python311\\Lib\\site-packages\\pandas\\core\\series.py:1112\u001b[0m, in \u001b[0;36mSeries.__getitem__\u001b[1;34m(self, key)\u001b[0m\n\u001b[0;32m   1109\u001b[0m     \u001b[38;5;28;01mreturn\u001b[39;00m \u001b[38;5;28mself\u001b[39m\u001b[38;5;241m.\u001b[39m_values[key]\n\u001b[0;32m   1111\u001b[0m \u001b[38;5;28;01melif\u001b[39;00m key_is_scalar:\n\u001b[1;32m-> 1112\u001b[0m     \u001b[38;5;28;01mreturn\u001b[39;00m \u001b[38;5;28;43mself\u001b[39;49m\u001b[38;5;241;43m.\u001b[39;49m\u001b[43m_get_value\u001b[49m\u001b[43m(\u001b[49m\u001b[43mkey\u001b[49m\u001b[43m)\u001b[49m\n\u001b[0;32m   1114\u001b[0m \u001b[38;5;66;03m# Convert generator to list before going through hashable part\u001b[39;00m\n\u001b[0;32m   1115\u001b[0m \u001b[38;5;66;03m# (We will iterate through the generator there to check for slices)\u001b[39;00m\n\u001b[0;32m   1116\u001b[0m \u001b[38;5;28;01mif\u001b[39;00m is_iterator(key):\n",
      "File \u001b[1;32mc:\\Users\\ARYAN PRAKASH\\AppData\\Local\\Programs\\Python\\Python311\\Lib\\site-packages\\pandas\\core\\series.py:1228\u001b[0m, in \u001b[0;36mSeries._get_value\u001b[1;34m(self, label, takeable)\u001b[0m\n\u001b[0;32m   1225\u001b[0m     \u001b[38;5;28;01mreturn\u001b[39;00m \u001b[38;5;28mself\u001b[39m\u001b[38;5;241m.\u001b[39m_values[label]\n\u001b[0;32m   1227\u001b[0m \u001b[38;5;66;03m# Similar to Index.get_value, but we do not fall back to positional\u001b[39;00m\n\u001b[1;32m-> 1228\u001b[0m loc \u001b[38;5;241m=\u001b[39m \u001b[38;5;28;43mself\u001b[39;49m\u001b[38;5;241;43m.\u001b[39;49m\u001b[43mindex\u001b[49m\u001b[38;5;241;43m.\u001b[39;49m\u001b[43mget_loc\u001b[49m\u001b[43m(\u001b[49m\u001b[43mlabel\u001b[49m\u001b[43m)\u001b[49m\n\u001b[0;32m   1230\u001b[0m \u001b[38;5;28;01mif\u001b[39;00m is_integer(loc):\n\u001b[0;32m   1231\u001b[0m     \u001b[38;5;28;01mreturn\u001b[39;00m \u001b[38;5;28mself\u001b[39m\u001b[38;5;241m.\u001b[39m_values[loc]\n",
      "File \u001b[1;32mc:\\Users\\ARYAN PRAKASH\\AppData\\Local\\Programs\\Python\\Python311\\Lib\\site-packages\\pandas\\core\\indexes\\base.py:3812\u001b[0m, in \u001b[0;36mIndex.get_loc\u001b[1;34m(self, key)\u001b[0m\n\u001b[0;32m   3807\u001b[0m     \u001b[38;5;28;01mif\u001b[39;00m \u001b[38;5;28misinstance\u001b[39m(casted_key, \u001b[38;5;28mslice\u001b[39m) \u001b[38;5;129;01mor\u001b[39;00m (\n\u001b[0;32m   3808\u001b[0m         \u001b[38;5;28misinstance\u001b[39m(casted_key, abc\u001b[38;5;241m.\u001b[39mIterable)\n\u001b[0;32m   3809\u001b[0m         \u001b[38;5;129;01mand\u001b[39;00m \u001b[38;5;28many\u001b[39m(\u001b[38;5;28misinstance\u001b[39m(x, \u001b[38;5;28mslice\u001b[39m) \u001b[38;5;28;01mfor\u001b[39;00m x \u001b[38;5;129;01min\u001b[39;00m casted_key)\n\u001b[0;32m   3810\u001b[0m     ):\n\u001b[0;32m   3811\u001b[0m         \u001b[38;5;28;01mraise\u001b[39;00m InvalidIndexError(key)\n\u001b[1;32m-> 3812\u001b[0m     \u001b[38;5;28;01mraise\u001b[39;00m \u001b[38;5;167;01mKeyError\u001b[39;00m(key) \u001b[38;5;28;01mfrom\u001b[39;00m \u001b[38;5;21;01merr\u001b[39;00m\n\u001b[0;32m   3813\u001b[0m \u001b[38;5;28;01mexcept\u001b[39;00m \u001b[38;5;167;01mTypeError\u001b[39;00m:\n\u001b[0;32m   3814\u001b[0m     \u001b[38;5;66;03m# If we have a listlike key, _check_indexing_error will raise\u001b[39;00m\n\u001b[0;32m   3815\u001b[0m     \u001b[38;5;66;03m#  InvalidIndexError. Otherwise we fall through and re-raise\u001b[39;00m\n\u001b[0;32m   3816\u001b[0m     \u001b[38;5;66;03m#  the TypeError.\u001b[39;00m\n\u001b[0;32m   3817\u001b[0m     \u001b[38;5;28mself\u001b[39m\u001b[38;5;241m.\u001b[39m_check_indexing_error(key)\n",
      "\u001b[1;31mKeyError\u001b[0m: 'Time'"
     ]
    }
   ],
   "source": [
    "startindex = 0\n",
    "endindex = 0\n",
    "prevdate = \"\"\n",
    "p = 1\n",
    "for i,row in dataset.iterrows():\n",
    "    \n",
    "    date = row['Time'][1:12]\n",
    "    if i==0:\n",
    "        prevdate = date\n",
    "    else:\n",
    "        if date == prevdate:\n",
    "            endindex = endindex + 1\n",
    "        else:\n",
    "            data = dataset.iloc[startindex:endindex+1, :]\n",
    "            max_time_diff, mean_time_diff, sum_time_diff, variance_time_diff = time_stats(data)\n",
    "            #print(max_time_diff, mean_time_diff, sum_time_diff, variance_time_diff)\n",
    "            count_most_visited_page, count_most_appearing_bigram, count_most_appearing_trigram, count_most_appearing_ngram = bigram_stats(data)\n",
    "            #print(count_most_visited_page, count_most_appearing_bigram, count_most_appearing_trigram, count_most_appearing_ngram)\n",
    "            most_vis_ip = most_visited_ip(data)\n",
    "            most_frequent_status = most_freq_status(data)\n",
    "            #print(most_vis_ip, most_frequent_status, end = ' ')\n",
    "            #print()\n",
    "            if most_vis_ip == None:\n",
    "                most_vis_ip = '10.130.2.1'\n",
    "            if most_frequent_status == None:\n",
    "                most_frequent_status = 200\n",
    "            work_dataset.loc[p]=[count_most_appearing_bigram, count_most_appearing_ngram, count_most_appearing_trigram, count_most_visited_page, most_vis_ip, endindex - startindex + 1, most_frequent_status, max_time_diff, mean_time_diff, sum_time_diff, variance_time_diff]\n",
    "            startindex = endindex\n",
    "            #endindex = endindex + 1\n",
    "            prevdate = date\n",
    "            p = p + 1\n",
    "            #print(max_time_diff, mean_time_diff, sum_time_diff, variance_time_diff)"
   ]
  },
  {
   "cell_type": "code",
   "execution_count": null,
   "metadata": {},
   "outputs": [],
   "source": [
    "work_dataset"
   ]
  },
  {
   "cell_type": "code",
   "execution_count": null,
   "metadata": {},
   "outputs": [],
   "source": [
    "Ip_rep = np.array([])\n",
    "for i,row in work_dataset.iterrows():\n",
    "    ip = row[4]\n",
    "    ip = ip.replace('.', '')\n",
    "    a = int(ip)\n",
    "    Ip_rep = np.append(Ip_rep, a)\n",
    "Ip_rep\n",
    "work_dataset['IP_rep'] = Ip_rep"
   ]
  },
  {
   "cell_type": "code",
   "execution_count": null,
   "metadata": {},
   "outputs": [],
   "source": [
    "work_dataset"
   ]
  },
  {
   "cell_type": "code",
   "execution_count": null,
   "metadata": {},
   "outputs": [],
   "source": [
    "work_dataset.drop('IP_Address', axis=1, inplace=True)"
   ]
  },
  {
   "cell_type": "code",
   "execution_count": null,
   "metadata": {},
   "outputs": [],
   "source": [
    "work_dataset"
   ]
  },
  {
   "cell_type": "code",
   "execution_count": null,
   "metadata": {},
   "outputs": [],
   "source": [
    "X = work_dataset.iloc[:,:].values"
   ]
  },
  {
   "cell_type": "code",
   "execution_count": null,
   "metadata": {},
   "outputs": [],
   "source": [
    "from sklearn.preprocessing import StandardScaler\n",
    "sc_X = StandardScaler()\n",
    "X = sc_X.fit_transform(X)\n",
    "X"
   ]
  },
  {
   "cell_type": "code",
   "execution_count": null,
   "metadata": {},
   "outputs": [],
   "source": [
    "from sklearn.cluster import KMeans\n",
    "kmeans = KMeans(n_clusters = 5,random_state = 0)"
   ]
  },
  {
   "cell_type": "code",
   "execution_count": null,
   "metadata": {},
   "outputs": [],
   "source": [
    "kmeans.fit(X)"
   ]
  },
  {
   "cell_type": "code",
   "execution_count": null,
   "metadata": {},
   "outputs": [],
   "source": [
    "y_kmeans = kmeans.predict(X)\n",
    "y_kmeans"
   ]
  },
  {
   "cell_type": "code",
   "execution_count": null,
   "metadata": {},
   "outputs": [
    {
     "ename": "NameError",
     "evalue": "name 'X' is not defined",
     "output_type": "error",
     "traceback": [
      "\u001b[1;31m---------------------------------------------------------------------------\u001b[0m",
      "\u001b[1;31mNameError\u001b[0m                                 Traceback (most recent call last)",
      "Cell \u001b[1;32mIn[19], line 1\u001b[0m\n\u001b[1;32m----> 1\u001b[0m plt\u001b[38;5;241m.\u001b[39mscatter(\u001b[43mX\u001b[49m[y_kmeans \u001b[38;5;241m==\u001b[39m \u001b[38;5;241m0\u001b[39m, \u001b[38;5;241m4\u001b[39m], X[y_kmeans \u001b[38;5;241m==\u001b[39m \u001b[38;5;241m0\u001b[39m, \u001b[38;5;241m3\u001b[39m], c \u001b[38;5;241m=\u001b[39m \u001b[38;5;124m'\u001b[39m\u001b[38;5;124mred\u001b[39m\u001b[38;5;124m'\u001b[39m, label \u001b[38;5;241m=\u001b[39m \u001b[38;5;124m'\u001b[39m\u001b[38;5;124mCluster 1\u001b[39m\u001b[38;5;124m'\u001b[39m)\n\u001b[0;32m      2\u001b[0m plt\u001b[38;5;241m.\u001b[39mscatter(X[y_kmeans \u001b[38;5;241m==\u001b[39m \u001b[38;5;241m1\u001b[39m, \u001b[38;5;241m4\u001b[39m], X[y_kmeans \u001b[38;5;241m==\u001b[39m \u001b[38;5;241m1\u001b[39m, \u001b[38;5;241m3\u001b[39m], c \u001b[38;5;241m=\u001b[39m \u001b[38;5;124m'\u001b[39m\u001b[38;5;124mblue\u001b[39m\u001b[38;5;124m'\u001b[39m, label \u001b[38;5;241m=\u001b[39m \u001b[38;5;124m'\u001b[39m\u001b[38;5;124mCluster 2\u001b[39m\u001b[38;5;124m'\u001b[39m)\n\u001b[0;32m      3\u001b[0m plt\u001b[38;5;241m.\u001b[39mscatter(X[y_kmeans \u001b[38;5;241m==\u001b[39m \u001b[38;5;241m2\u001b[39m, \u001b[38;5;241m4\u001b[39m], X[y_kmeans \u001b[38;5;241m==\u001b[39m \u001b[38;5;241m2\u001b[39m, \u001b[38;5;241m3\u001b[39m], c \u001b[38;5;241m=\u001b[39m \u001b[38;5;124m'\u001b[39m\u001b[38;5;124mgreen\u001b[39m\u001b[38;5;124m'\u001b[39m, label \u001b[38;5;241m=\u001b[39m \u001b[38;5;124m'\u001b[39m\u001b[38;5;124mCluster 3\u001b[39m\u001b[38;5;124m'\u001b[39m)\n",
      "\u001b[1;31mNameError\u001b[0m: name 'X' is not defined"
     ]
    }
   ],
   "source": [
    "plt.scatter(X[y_kmeans == 0, 4], X[y_kmeans == 0, 3], c = 'red', label = 'Cluster 1')\n",
    "plt.scatter(X[y_kmeans == 1, 4], X[y_kmeans == 1, 3], c = 'blue', label = 'Cluster 2')\n",
    "plt.scatter(X[y_kmeans == 2, 4], X[y_kmeans == 2, 3], c = 'green', label = 'Cluster 3')\n",
    "plt.scatter(X[y_kmeans == 3, 4], X[y_kmeans == 3, 3], c = 'cyan', label = 'Cluster 4')\n",
    "plt.scatter(X[y_kmeans == 4, 4], X[y_kmeans == 4, 3], c = 'magenta', label = 'Cluster 5')\n",
    "#plt.scatter(kmeans.cluster_centers_[:, 0], kmeans.cluster_centers_[:, 1], s = 300, c = 'yellow', label = 'Centroids')\n",
    "plt.title('K_means_Clustering')\n",
    "plt.xlabel('Number_of_records')\n",
    "plt.ylabel('Count_of_most_visited_pages')\n",
    "plt.legend()\n",
    "plt.show()"
   ]
  },
  {
   "cell_type": "code",
   "execution_count": null,
   "metadata": {},
   "outputs": [],
   "source": [
    "import seaborn as sns"
   ]
  },
  {
   "cell_type": "code",
   "execution_count": null,
   "metadata": {},
   "outputs": [],
   "source": [
    "cor = work_dataset.corr()\n",
    "sns.heatmap(cor, square = True)\n",
    "plt.show()"
   ]
  },
  {
   "cell_type": "code",
   "execution_count": null,
   "metadata": {},
   "outputs": [],
   "source": [
    "from sklearn.cluster import AgglomerativeClustering, AffinityPropagation "
   ]
  },
  {
   "cell_type": "code",
   "execution_count": null,
   "metadata": {},
   "outputs": [],
   "source": [
    "model = AgglomerativeClustering(n_clusters=5, affinity = 'euclidean', linkage = 'ward')\n",
    "clust_labels1 = model.fit_predict(X)\n",
    "clust_labels1"
   ]
  },
  {
   "cell_type": "code",
   "execution_count": null,
   "metadata": {},
   "outputs": [],
   "source": [
    "agglomerative = pd.DataFrame(clust_labels1)"
   ]
  },
  {
   "cell_type": "code",
   "execution_count": null,
   "metadata": {},
   "outputs": [],
   "source": [
    "plt.scatter(X[clust_labels1 == 0, 4], X[clust_labels1 == 0, 3], c = 'red', label = 'Cluster 1')\n",
    "plt.scatter(X[clust_labels1 == 1, 4], X[clust_labels1 == 1, 3], c = 'blue', label = 'Cluster 2')\n",
    "plt.scatter(X[clust_labels1 == 2, 4], X[clust_labels1 == 2, 3], c = 'green', label = 'Cluster 3')\n",
    "plt.scatter(X[clust_labels1 == 3, 4], X[clust_labels1 == 3, 3], c = 'cyan', label = 'Cluster 4')\n",
    "plt.scatter(X[clust_labels1 == 4, 4], X[clust_labels1 == 4, 3], c = 'magenta', label = 'Cluster 5')\n",
    "plt.title('Agglomerative Clustering')\n",
    "plt.xlabel('Number_of_records')\n",
    "plt.ylabel('Count_of_most_visited_pages')\n",
    "plt.legend()\n",
    "plt.show()"
   ]
  },
  {
   "cell_type": "code",
   "execution_count": null,
   "metadata": {},
   "outputs": [],
   "source": [
    "model_affinity = AffinityPropagation(damping = 0.5, max_iter = 250, affinity = 'euclidean')\n",
    "model_affinity.fit(X)\n",
    "clust_labels2 = model_affinity.predict(X)\n",
    "cent2 = model_affinity.cluster_centers_\n",
    "affinity = pd.DataFrame(clust_labels2)"
   ]
  },
  {
   "cell_type": "code",
   "execution_count": null,
   "metadata": {},
   "outputs": [],
   "source": [
    "plt.scatter(X[clust_labels2 == 0, 4], X[clust_labels2 == 0, 3], c = 'red', label = 'Cluster 1')\n",
    "plt.scatter(X[clust_labels2 == 1, 4], X[clust_labels2 == 1, 3], c = 'blue', label = 'Cluster 2')\n",
    "plt.scatter(X[clust_labels2 == 2, 4], X[clust_labels2 == 2, 3], c = 'green', label = 'Cluster 3')\n",
    "plt.scatter(X[clust_labels2 == 3, 4], X[clust_labels2 == 3, 3], c = 'cyan', label = 'Cluster 4')\n",
    "plt.scatter(X[clust_labels2 == 4, 4], X[clust_labels2 == 4, 3], c = 'magenta', label = 'Cluster 5')\n",
    "plt.title('Affinity Propagation Clustering')\n",
    "plt.xlabel('Number_of_records')\n",
    "plt.ylabel('Count_of_most_visited_pages')\n",
    "plt.legend()\n",
    "plt.show()"
   ]
  },
  {
   "cell_type": "code",
   "execution_count": null,
   "metadata": {},
   "outputs": [],
   "source": [
    "from sklearn.cluster import SpectralClustering"
   ]
  },
  {
   "cell_type": "code",
   "execution_count": null,
   "metadata": {},
   "outputs": [],
   "source": [
    "clustering = SpectralClustering(n_clusters=5, assign_labels=\"discretize\", random_state=0).fit(X)\n",
    "clust_labels3 = clustering.labels_"
   ]
  },
  {
   "cell_type": "code",
   "execution_count": null,
   "metadata": {},
   "outputs": [],
   "source": [
    "clust_labels3"
   ]
  },
  {
   "cell_type": "code",
   "execution_count": null,
   "metadata": {},
   "outputs": [],
   "source": []
  },
  {
   "cell_type": "code",
   "execution_count": null,
   "metadata": {},
   "outputs": [],
   "source": [
    "plt.scatter(X[clust_labels3 == 0, 4], X[clust_labels3 == 0, 3], c = 'red', label = 'Cluster 1')\n",
    "plt.scatter(X[clust_labels3 == 1, 4], X[clust_labels3 == 1, 3], c = 'blue', label = 'Cluster 2')\n",
    "plt.scatter(X[clust_labels3 == 2, 4], X[clust_labels3 == 2, 3], c = 'green', label = 'Cluster 3')\n",
    "plt.scatter(X[clust_labels3 == 3, 4], X[clust_labels3 == 3, 3], c = 'cyan', label = 'Cluster 4')\n",
    "plt.scatter(X[clust_labels3 == 4, 4], X[clust_labels3 == 4, 3], c = 'magenta', label = 'Cluster 5')\n",
    "plt.title('Spectral Clustering')\n",
    "plt.xlabel('Number_of_records')\n",
    "plt.ylabel('Count_of_most_visited_pages')\n",
    "plt.legend()\n",
    "plt.show()"
   ]
  },
  {
   "cell_type": "code",
   "execution_count": null,
   "metadata": {},
   "outputs": [],
   "source": []
  }
 ],
 "metadata": {
  "kernelspec": {
   "display_name": "Python 3",
   "language": "python",
   "name": "python3"
  },
  "language_info": {
   "codemirror_mode": {
    "name": "ipython",
    "version": 3
   },
   "file_extension": ".py",
   "mimetype": "text/x-python",
   "name": "python",
   "nbconvert_exporter": "python",
   "pygments_lexer": "ipython3",
   "version": "3.11.1"
  }
 },
 "nbformat": 4,
 "nbformat_minor": 4
}
