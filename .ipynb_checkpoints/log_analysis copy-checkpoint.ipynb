{
 "cells": [
  {
   "cell_type": "code",
   "execution_count": null,
   "metadata": {},
   "outputs": [],
   "source": [
    "import numpy as np\n",
    "import matplotlib.pyplot as plt\n",
    "import pandas as pd"
   ]
  },
  {
   "cell_type": "code",
   "execution_count": null,
   "metadata": {},
   "outputs": [],
   "source": [
    "import datetime"
   ]
  },
  {
   "cell_type": "code",
   "execution_count": null,
   "metadata": {},
   "outputs": [],
   "source": [
    "dataset = pd.read_csv('../dataset/access_log.txt/output.csv')\n",
    "dataset.head()"
   ]
  },
  {
   "cell_type": "code",
   "execution_count": null,
   "metadata": {},
   "outputs": [],
   "source": []
  },
  {
   "cell_type": "code",
   "execution_count": null,
   "metadata": {},
   "outputs": [],
   "source": [
    "df = dataset.iloc[:580, :]\n",
    "df.head()"
   ]
  },
  {
   "cell_type": "code",
   "execution_count": null,
   "metadata": {},
   "outputs": [],
   "source": [
    "data = {\n",
    "    \"IP_Address\": [\"10.128.2.1\"],\n",
    "    \"Time_Difference_Mean\": [99],\n",
    "    \"Time_Difference_Variance\": [54],\n",
    "    \"Time_Difference_Sum\": [105],\n",
    "    \"Time_Difference_Maximum\": [15],\n",
    "    \"Character-bigrams\": [45],\n",
    "    \"Character-trigrams\": [34],\n",
    "    \"Character-ngrams\": [74],\n",
    "    \"Count_of_most_visited_page\": [14],\n",
    "    \"Status\": [200],\n",
    "    \"Number_of_records\": [40],\n",
    "}\n",
    "work_dataset = pd.DataFrame(data)\n",
    "work_dataset"
   ]
  },
  {
   "cell_type": "code",
   "execution_count": null,
   "metadata": {},
   "outputs": [],
   "source": [
    "import datetime\n",
    "\n",
    "# import pandas as pd\n",
    "\n",
    "\n",
    "def time_stats(dataframe):\n",
    "    \"\"\"\n",
    "    Calculate time-based statistics from weblog time format [DD-MM-YYYY HH:MM\n",
    "\n",
    "    Args:   \n",
    "        dataframe: pandas DataFrame with time values in format [DD-MM-YYYY HH:MM]\n",
    "    Returns:\n",
    "        tuple: (max_time_diff, mean_time_diff, sum_time_diff, variance_time_diff)\n",
    "    \"\"\"\n",
    "    if len(dataframe) <= 1:\n",
    "        return 0, 0, 0, 0\n",
    "\n",
    "    # Extract time from the format [DD-MM-YYYY HH:MM]\n",
    "    def extract_time(time_str):\n",
    "        return datetime.datetime.strptime(time_str, \"%d-%m-%Y %H:%M\")\n",
    "\n",
    "    # Process all times at once\n",
    "    try:\n",
    "        processed_times = [\n",
    "            extract_time(str(time)) for time in dataframe.iloc[:, 1].values\n",
    "        ]\n",
    "\n",
    "        # Calculate time differences in seconds\n",
    "        time_diffs = [\n",
    "            (processed_times[i] - processed_times[i - 1]).total_seconds()\n",
    "            for i in range(1, len(processed_times))\n",
    "        ]\n",
    "\n",
    "        if not time_diffs:\n",
    "            return 0, 0, 0, 0\n",
    "\n",
    "        # Calculate statistics\n",
    "        max_time_diff = max(time_diffs)\n",
    "        sum_time_diff = sum(time_diffs)\n",
    "        mean_time_diff = sum_time_diff / len(time_diffs)\n",
    "\n",
    "        # Calculate variance\n",
    "        variance_time_diff = sum(\n",
    "            (diff - mean_time_diff) ** 2 for diff in time_diffs\n",
    "        ) / len(time_diffs)\n",
    "\n",
    "        return max_time_diff, mean_time_diff, sum_time_diff, variance_time_diff\n",
    "\n",
    "    except (ValueError, IndexError) as e:\n",
    "        print(f\"Error processing times: {e}\")\n",
    "        return 0, 0, 0, 0"
   ]
  },
  {
   "cell_type": "code",
   "execution_count": null,
   "metadata": {},
   "outputs": [],
   "source": [
    "time_stats(df)"
   ]
  },
  {
   "cell_type": "code",
   "execution_count": null,
   "metadata": {},
   "outputs": [],
   "source": [
    "import re\n",
    "import string\n",
    "import nltk\n",
    "import nltk.corpus\n",
    "from nltk.corpus import stopwords\n",
    "from nltk.tokenize import word_tokenize\n",
    "from nltk.util import bigrams"
   ]
  },
  {
   "cell_type": "code",
   "execution_count": null,
   "metadata": {},
   "outputs": [],
   "source": [
    "def most_frequent(List):\n",
    "    return max(set(List), key=List.count)"
   ]
  },
  {
   "cell_type": "code",
   "execution_count": null,
   "metadata": {},
   "outputs": [],
   "source": [
    "def bigram_stats(dataframe):\n",
    "    url_array = dataframe.iloc[:, 2].values\n",
    "    full_string = \"\"\n",
    "    for url in url_array:\n",
    "        full_string = full_string + url\n",
    "    full_string = full_string.lower()\n",
    "    full_string = re.sub(r\"\\d+\", \"\", full_string)\n",
    "    table = str.maketrans({key: None for key in string.punctuation})\n",
    "    full_string = full_string.translate(table)\n",
    "    full_string = full_string.strip()\n",
    "    full_string_tokens = word_tokenize(full_string)\n",
    "    for char in full_string_tokens:\n",
    "        if char == \"get\":\n",
    "            full_string_tokens.remove(\"get\")\n",
    "    for char in full_string_tokens:\n",
    "        if char == \"httpget\":\n",
    "            full_string_tokens.remove(\"httpget\")\n",
    "    for char in full_string_tokens:\n",
    "        if char == \"httppost\":\n",
    "            full_string_tokens.remove(\"httppost\")\n",
    "    for char in full_string_tokens:\n",
    "        if char == \"post\":\n",
    "            full_string_tokens.remove(\"post\")\n",
    "\n",
    "    count_most_visited_page = 0\n",
    "    if len(full_string_tokens) != 0:\n",
    "        most_visited_page = most_frequent(full_string_tokens)\n",
    "        count_most_visited_page = full_string_tokens.count(most_visited_page)\n",
    "\n",
    "    count_most_appearing_bigram = 0\n",
    "    bigrams = list(nltk.bigrams(full_string_tokens))\n",
    "    if len(bigrams) != 0:\n",
    "        most_appearing_bigram = most_frequent(bigrams)\n",
    "        count_most_appearing_bigram = bigrams.count(most_appearing_bigram)\n",
    "\n",
    "    count_most_appearing_trigram = 0\n",
    "    trigrams = list(nltk.trigrams(full_string_tokens))\n",
    "    if len(trigrams) != 0:\n",
    "        most_appearing_trigram = most_frequent(trigrams)\n",
    "        count_most_appearing_trigram = trigrams.count(most_appearing_trigram)\n",
    "\n",
    "    count_most_appearing_ngram = 0\n",
    "    ngrams = list(nltk.ngrams(full_string_tokens, 6))\n",
    "    if len(ngrams) != 0:\n",
    "        most_appearing_ngram = most_frequent(ngrams)\n",
    "        count_most_appearing_ngram = ngrams.count(most_appearing_ngram)\n",
    "\n",
    "    return (\n",
    "        count_most_visited_page,\n",
    "        count_most_appearing_bigram,\n",
    "        count_most_appearing_trigram,\n",
    "        count_most_appearing_ngram,\n",
    "    )"
   ]
  },
  {
   "cell_type": "code",
   "execution_count": null,
   "metadata": {},
   "outputs": [],
   "source": [
    "bigram_stats(df)"
   ]
  },
  {
   "cell_type": "code",
   "execution_count": null,
   "metadata": {},
   "outputs": [],
   "source": [
    "from collections import Counter"
   ]
  },
  {
   "cell_type": "code",
   "execution_count": null,
   "metadata": {},
   "outputs": [],
   "source": [
    "def most_visited_ip(dataframe):\n",
    "    ip = dataframe.iloc[:, 0].values\n",
    "    x = Counter(ip)\n",
    "    return x.most_common(1)[0][0]"
   ]
  },
  {
   "cell_type": "code",
   "execution_count": null,
   "metadata": {},
   "outputs": [],
   "source": [
    "most_visited_ip(df)"
   ]
  },
  {
   "cell_type": "code",
   "execution_count": null,
   "metadata": {},
   "outputs": [],
   "source": [
    "def most_freq_status(dataframe):\n",
    "    status = dataframe.iloc[:, 3].values\n",
    "    x = Counter(status)\n",
    "    return x.most_common(1)[0][0]"
   ]
  },
  {
   "cell_type": "code",
   "execution_count": null,
   "metadata": {},
   "outputs": [],
   "source": [
    "most_freq_status(df)"
   ]
  },
  {
   "cell_type": "code",
   "execution_count": null,
   "metadata": {},
   "outputs": [],
   "source": [
    "print(dataset.columns)"
   ]
  },
  {
   "cell_type": "code",
   "execution_count": null,
   "metadata": {},
   "outputs": [],
   "source": [
    "# Process dataset\n",
    "startindex = 0\n",
    "endindex = 0\n",
    "prevdate = \"\"\n",
    "p = 1\n",
    "\n",
    "work_dataset = pd.DataFrame(\n",
    "    columns=[\n",
    "        \"Character-bigrams\",\n",
    "        \"Character-ngrams\",\n",
    "        \"Character-trigrams\",\n",
    "        \"Count_of_most_visited_page\",\n",
    "        \"IP_Address\",\n",
    "        \"Number_of_records\",\n",
    "        \"Status\",\n",
    "        \"Time_Difference_Maximum\",\n",
    "        \"Time_Difference_Mean\",\n",
    "        \"Time_Difference_Sum\",\n",
    "        \"Time_Difference_Variance\",\n",
    "    ]\n",
    ")\n",
    "\n",
    "for i, row in dataset.iterrows():\n",
    "    date = row[\"Timestamp\"][:10]  # Extract the date part from the Timestamp\n",
    "    if i == 0:\n",
    "        prevdate = date\n",
    "    else:\n",
    "        if date == prevdate:\n",
    "            endindex += 1\n",
    "        else:\n",
    "            data = dataset.iloc[startindex : endindex + 1, :]\n",
    "            max_time_diff, mean_time_diff, sum_time_diff, variance_time_diff = time_stats(data)\n",
    "            count_most_visited_page, count_most_appearing_bigram, count_most_appearing_trigram, count_most_appearing_ngram = bigram_stats(data)\n",
    "            most_vis_ip = most_visited_ip(data)\n",
    "            most_frequent_status = most_freq_status(data)\n",
    "            most_vis_ip = most_vis_ip if most_vis_ip else \"10.130.2.1\"\n",
    "            most_frequent_status = most_frequent_status if most_frequent_status else 200\n",
    "\n",
    "            work_dataset.loc[p] = [\n",
    "                count_most_appearing_bigram,\n",
    "                count_most_appearing_ngram,\n",
    "                count_most_appearing_trigram,\n",
    "                count_most_visited_page,\n",
    "                most_vis_ip,\n",
    "                endindex - startindex + 1,\n",
    "                most_frequent_status,\n",
    "                max_time_diff,\n",
    "                mean_time_diff,\n",
    "                sum_time_diff,\n",
    "                variance_time_diff,\n",
    "            ]\n",
    "            startindex = endindex + 1\n",
    "            endindex = startindex\n",
    "            prevdate = date\n",
    "            p += 1\n",
    "\n",
    "# Process the last date range\n",
    "data = dataset.iloc[startindex : endindex + 1, :]\n",
    "max_time_diff, mean_time_diff, sum_time_diff, variance_time_diff = time_stats(data)\n",
    "count_most_visited_page, count_most_appearing_bigram, count_most_appearing_trigram, count_most_appearing_ngram = bigram_stats(data)\n",
    "most_vis_ip = most_visited_ip(data)\n",
    "most_frequent_status = most_freq_status(data)\n",
    "most_vis_ip = most_vis_ip if most_vis_ip else \"10.130.2.1\"\n",
    "most_frequent_status = most_frequent_status if most_frequent_status else 200\n",
    "\n",
    "work_dataset.loc[p] = [\n",
    "    count_most_appearing_bigram,\n",
    "    count_most_appearing_ngram,\n",
    "    count_most_appearing_trigram,\n",
    "    count_most_visited_page,\n",
    "    most_vis_ip,\n",
    "    endindex - startindex + 1,\n",
    "    most_frequent_status,\n",
    "    max_time_diff,\n",
    "    mean_time_diff,\n",
    "    sum_time_diff,\n",
    "    variance_time_diff,\n",
    "]"
   ]
  },
  {
   "cell_type": "code",
   "execution_count": null,
   "metadata": {},
   "outputs": [],
   "source": [
    "work_dataset"
   ]
  },
  {
   "cell_type": "code",
   "execution_count": null,
   "metadata": {},
   "outputs": [],
   "source": [
    "Ip_rep = []\n",
    "for i, row in work_dataset.iterrows():\n",
    "    ip = str(row.iloc[4])  # Convert to string\n",
    "    if ip == \"nan\":  # Handle missing values\n",
    "        ip = \"0.0.0.0\"  # Assign a default IP like \"0.0.0.0\"\n",
    "    ip = ip.replace(\".\", \"\")  # Remove dots\n",
    "    a = int(ip)  # Convert to integer\n",
    "    Ip_rep.append(a)  # Append to list\n",
    "\n",
    "# Convert list to NumPy array and add to DataFrame\n",
    "work_dataset[\"IP_rep\"] = np.array(Ip_rep)"
   ]
  },
  {
   "cell_type": "code",
   "execution_count": null,
   "metadata": {},
   "outputs": [],
   "source": [
    "work_dataset"
   ]
  },
  {
   "cell_type": "code",
   "execution_count": null,
   "metadata": {},
   "outputs": [],
   "source": [
    "work_dataset.drop(\"IP_Address\", axis=1, inplace=True)"
   ]
  },
  {
   "cell_type": "code",
   "execution_count": null,
   "metadata": {},
   "outputs": [],
   "source": [
    "work_dataset"
   ]
  },
  {
   "cell_type": "code",
   "execution_count": null,
   "metadata": {},
   "outputs": [],
   "source": [
    "X = work_dataset.iloc[:, :].values"
   ]
  },
  {
   "cell_type": "code",
   "execution_count": null,
   "metadata": {},
   "outputs": [],
   "source": [
    "from sklearn.preprocessing import StandardScaler\n",
    "\n",
    "sc_X = StandardScaler()\n",
    "X = sc_X.fit_transform(X)\n",
    "X"
   ]
  },
  {
   "cell_type": "code",
   "execution_count": null,
   "metadata": {},
   "outputs": [],
   "source": [
    "from sklearn.cluster import KMeans\n",
    "\n",
    "kmeans = KMeans(n_clusters=5, random_state=0)"
   ]
  },
  {
   "cell_type": "code",
   "execution_count": null,
   "metadata": {},
   "outputs": [],
   "source": [
    "kmeans.fit(X)"
   ]
  },
  {
   "cell_type": "code",
   "execution_count": null,
   "metadata": {},
   "outputs": [],
   "source": [
    "y_kmeans = kmeans.predict(X)\n",
    "y_kmeans"
   ]
  },
  {
   "cell_type": "code",
   "execution_count": null,
   "metadata": {},
   "outputs": [],
   "source": [
    "plt.scatter(X[y_kmeans == 0, 4], X[y_kmeans == 0, 3], c=\"red\", label=\"Cluster 1\")\n",
    "plt.scatter(X[y_kmeans == 1, 4], X[y_kmeans == 1, 3], c=\"blue\", label=\"Cluster 2\")\n",
    "plt.scatter(X[y_kmeans == 2, 4], X[y_kmeans == 2, 3], c=\"green\", label=\"Cluster 3\")\n",
    "plt.scatter(X[y_kmeans == 3, 4], X[y_kmeans == 3, 3], c=\"cyan\", label=\"Cluster 4\")\n",
    "plt.scatter(X[y_kmeans == 4, 4], X[y_kmeans == 4, 3], c=\"magenta\", label=\"Cluster 5\")\n",
    "# plt.scatter(kmeans.cluster_centers_[:, 0], kmeans.cluster_centers_[:, 1], s = 300, c = 'yellow', label = 'Centroids')\n",
    "plt.title(\"K_means_Clustering\")\n",
    "plt.xlabel(\"Number_of_records\")\n",
    "plt.ylabel(\"Count_of_most_visited_pages\")\n",
    "plt.legend()\n",
    "plt.show()"
   ]
  },
  {
   "cell_type": "code",
   "execution_count": null,
   "metadata": {},
   "outputs": [],
   "source": [
    "import seaborn as sns"
   ]
  },
  {
   "cell_type": "code",
   "execution_count": null,
   "metadata": {},
   "outputs": [],
   "source": [
    "cor = work_dataset.corr()\n",
    "sns.heatmap(cor, square=True)\n",
    "plt.show()"
   ]
  },
  {
   "cell_type": "code",
   "execution_count": null,
   "metadata": {},
   "outputs": [],
   "source": [
    "from sklearn.cluster import AgglomerativeClustering, AffinityPropagation"
   ]
  },
  {
   "cell_type": "code",
   "execution_count": null,
   "metadata": {},
   "outputs": [],
   "source": [
    "model = AgglomerativeClustering(n_clusters=5, metric=\"euclidean\", linkage=\"ward\")\n",
    "clust_labels1 = model.fit_predict(X)\n",
    "clust_labels1"
   ]
  },
  {
   "cell_type": "code",
   "execution_count": null,
   "metadata": {},
   "outputs": [],
   "source": [
    "agglomerative = pd.DataFrame(clust_labels1)"
   ]
  },
  {
   "cell_type": "code",
   "execution_count": null,
   "metadata": {},
   "outputs": [],
   "source": [
    "plt.scatter(\n",
    "    X[clust_labels1 == 0, 4], X[clust_labels1 == 0, 3], c=\"red\", label=\"Cluster 1\"\n",
    ")\n",
    "plt.scatter(\n",
    "    X[clust_labels1 == 1, 4], X[clust_labels1 == 1, 3], c=\"blue\", label=\"Cluster 2\"\n",
    ")\n",
    "plt.scatter(\n",
    "    X[clust_labels1 == 2, 4], X[clust_labels1 == 2, 3], c=\"green\", label=\"Cluster 3\"\n",
    ")\n",
    "plt.scatter(\n",
    "    X[clust_labels1 == 3, 4], X[clust_labels1 == 3, 3], c=\"cyan\", label=\"Cluster 4\"\n",
    ")\n",
    "plt.scatter(\n",
    "    X[clust_labels1 == 4, 4], X[clust_labels1 == 4, 3], c=\"magenta\", label=\"Cluster 5\"\n",
    ")\n",
    "plt.title(\"Agglomerative Clustering\")\n",
    "plt.xlabel(\"Number_of_records\")\n",
    "plt.ylabel(\"Count_of_most_visited_pages\")\n",
    "plt.legend()\n",
    "plt.show()"
   ]
  },
  {
   "cell_type": "code",
   "execution_count": null,
   "metadata": {},
   "outputs": [],
   "source": [
    "model_affinity = AffinityPropagation(damping=0.5, max_iter=250, affinity=\"euclidean\")\n",
    "model_affinity.fit(X)\n",
    "clust_labels2 = model_affinity.predict(X)\n",
    "cent2 = model_affinity.cluster_centers_\n",
    "affinity = pd.DataFrame(clust_labels2)"
   ]
  },
  {
   "cell_type": "code",
   "execution_count": null,
   "metadata": {},
   "outputs": [],
   "source": [
    "plt.scatter(\n",
    "    X[clust_labels2 == 0, 4], X[clust_labels2 == 0, 3], c=\"red\", label=\"Cluster 1\"\n",
    ")\n",
    "plt.scatter(\n",
    "    X[clust_labels2 == 1, 4], X[clust_labels2 == 1, 3], c=\"blue\", label=\"Cluster 2\"\n",
    ")\n",
    "plt.scatter(\n",
    "    X[clust_labels2 == 2, 4], X[clust_labels2 == 2, 3], c=\"green\", label=\"Cluster 3\"\n",
    ")\n",
    "plt.scatter(\n",
    "    X[clust_labels2 == 3, 4], X[clust_labels2 == 3, 3], c=\"cyan\", label=\"Cluster 4\"\n",
    ")\n",
    "plt.scatter(\n",
    "    X[clust_labels2 == 4, 4], X[clust_labels2 == 4, 3], c=\"magenta\", label=\"Cluster 5\"\n",
    ")\n",
    "plt.title(\"Affinity Propagation Clustering\")\n",
    "plt.xlabel(\"Number_of_records\")\n",
    "plt.ylabel(\"Count_of_most_visited_pages\")\n",
    "plt.legend()\n",
    "plt.show()"
   ]
  },
  {
   "cell_type": "code",
   "execution_count": null,
   "metadata": {},
   "outputs": [],
   "source": [
    "from sklearn.cluster import SpectralClustering"
   ]
  },
  {
   "cell_type": "code",
   "execution_count": null,
   "metadata": {},
   "outputs": [],
   "source": [
    "clustering = SpectralClustering(\n",
    "    n_clusters=5, assign_labels=\"discretize\", random_state=0\n",
    ").fit(X)\n",
    "clust_labels3 = clustering.labels_"
   ]
  },
  {
   "cell_type": "code",
   "execution_count": null,
   "metadata": {},
   "outputs": [],
   "source": [
    "clust_labels3"
   ]
  },
  {
   "cell_type": "code",
   "execution_count": null,
   "metadata": {},
   "outputs": [],
   "source": [
    "plt.scatter(\n",
    "    X[clust_labels3 == 0, 4], X[clust_labels3 == 0, 3], c=\"red\", label=\"Cluster 1\"\n",
    ")\n",
    "plt.scatter(\n",
    "    X[clust_labels3 == 1, 4], X[clust_labels3 == 1, 3], c=\"blue\", label=\"Cluster 2\"\n",
    ")\n",
    "plt.scatter(\n",
    "    X[clust_labels3 == 2, 4], X[clust_labels3 == 2, 3], c=\"green\", label=\"Cluster 3\"\n",
    ")\n",
    "plt.scatter(\n",
    "    X[clust_labels3 == 3, 4], X[clust_labels3 == 3, 3], c=\"cyan\", label=\"Cluster 4\"\n",
    ")\n",
    "plt.scatter(\n",
    "    X[clust_labels3 == 4, 4], X[clust_labels3 == 4, 3], c=\"magenta\", label=\"Cluster 5\"\n",
    ")\n",
    "plt.title(\"Spectral Clustering\")\n",
    "plt.xlabel(\"Number_of_records\")\n",
    "plt.ylabel(\"Count_of_most_visited_pages\")\n",
    "plt.legend()\n",
    "plt.show()"
   ]
  }
 ],
 "metadata": {
  "kernelspec": {
   "display_name": "Python 3 (ipykernel)",
   "language": "python",
   "name": "python3"
  },
  "language_info": {
   "codemirror_mode": {
    "name": "ipython",
    "version": 3
   },
   "file_extension": ".py",
   "mimetype": "text/x-python",
   "name": "python",
   "nbconvert_exporter": "python",
   "pygments_lexer": "ipython3",
   "version": "3.11.1"
  }
 },
 "nbformat": 4,
 "nbformat_minor": 4
}
