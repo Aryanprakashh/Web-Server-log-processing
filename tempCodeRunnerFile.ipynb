 df = pd.read_csv(self.file_path)
        print("Columns in CSV file:", df.columns.tolist())